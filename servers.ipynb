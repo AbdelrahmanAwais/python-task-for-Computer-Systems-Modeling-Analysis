{
 "cells": [
  {
   "cell_type": "code",
   "execution_count": 4,
   "metadata": {},
   "outputs": [],
   "source": [
    "import numpy as np\n",
    "import pandas as pd"
   ]
  },
  {
   "cell_type": "code",
   "execution_count": 5,
   "metadata": {},
   "outputs": [],
   "source": [
    "# create class to contain 2 function \n",
    "class Server:\n",
    "    # function #1 for calculate averge delay and resourse utilization and number of objects \n",
    "    # and for makeing our tabel to calculate all this \n",
    "    def oneServer(self, arival, time):\n",
    "        print('one server')\n",
    "        self.arival = arival\n",
    "        self.time = time\n",
    "        a = []; arival_time = []; begin_time = []; end_time = []; delay = []; arival_total = 0\n",
    "        # checking if arival server time length \n",
    "        if(len(self.arival) == len(self.time)):\n",
    "            for idx, ariv in enumerate(self.arival):\n",
    "                a.append(idx+1)\n",
    "                arival_total += ariv \n",
    "                arival_time.append(arival_total)\n",
    "                if(len(arival_time) == 1):\n",
    "                    begin_time.append(arival_total)\n",
    "                    end_time.append(begin_time[idx]+time[idx])\n",
    "                else:\n",
    "                    begin_time.append(max(arival_total, end_time[idx-1]))\n",
    "                    end_time.append(begin_time[idx]+time[idx])\n",
    "                delay.append(end_time[idx]-arival_time[idx])\n",
    "        # checking if arival server time length \n",
    "        elif(len(arival) != len(time)):\n",
    "            print(\"not the same! 'arival',' time'\")\n",
    "        # create dict to put all list in one tabel data frame and rename cloumns\n",
    "        d = {'arival time':arival_time,\n",
    "             'begin time':begin_time,\n",
    "             'end time':end_time,\n",
    "             'delay':delay}\n",
    "        df = pd.DataFrame(data=d,index=a)\n",
    "        averge_delay = sum(delay)/len(delay)\n",
    "        r_u = sum(s)/(end_time[-1]-arival_time[0])\n",
    "        print('-'*50)\n",
    "        print(df)\n",
    "        print('-'*50)\n",
    "        print('averge delay: ',averge_delay)\n",
    "        print('Utilization: ',r_u)\n",
    "        #return a, arival_time, begin_time, end_time, delay\n",
    "        \n",
    "        \n",
    "        \n",
    "        \n",
    "        \n",
    "    def twoServer(self, arival, s1, s2):\n",
    "        \n",
    "        print('two server')\n",
    "        self.arival = arival\n",
    "        self.s1 = s1\n",
    "        self.s2 = s2\n",
    "        a = []; arival_1 = []; begin_1 = []; end_1 = []; begin_2 = []; end_2 = []; delay = []; total_arival = 0\n",
    "        \n",
    "        if (len(arival) == len(s1) and len(arival) == len(s2)):\n",
    "            for idx, ariv in enumerate(arival):\n",
    "                \n",
    "                \n",
    "                a.append(idx+1)\n",
    "                total_arival += ariv\n",
    "                arival_1.append(total_arival)\n",
    "                \n",
    "                if(len(arival_1) == 1):\n",
    "                    begin_1.append(total_arival)\n",
    "                    end_1.append(total_arival+s1[idx])\n",
    "                    begin_2.append(end_1[idx])\n",
    "                    end_2.append(begin_2[idx]+s2[idx])\n",
    "                    \n",
    "                else:\n",
    "                    begin_1.append(max(total_arival, end_1[idx-1]))\n",
    "                    end_1.append(begin_1[idx]+s1[idx])\n",
    "                    begin_2.append(max(end_1[idx], end_2[idx-1]))\n",
    "                    end_2.append(begin_2[idx]+s2[idx])\n",
    "                    \n",
    "                delay.append(end_2[idx]-arival_1[idx])\n",
    "                \n",
    "            dict = {'A':a, 'Arival':arival_1, 'begin 1':begin_1, 'end 1':end_1,\n",
    "                    'begin 2':begin_2, 'end 2':end_2, 'delay':delay}\n",
    "            df = pd.DataFrame(data=dict,index=a)\n",
    "            averge_delay = sum(delay)/len(delay)\n",
    "            r_u_1 = sum(s1)/(end_1[-1]-arival_1[0])\n",
    "            r_u_2 = sum(s2)/(end_2[-1]-arival_1[0])\n",
    "            print('-'*50)\n",
    "            print(df)\n",
    "            print('-'*50)\n",
    "            print('averge delay: ',averge_delay)\n",
    "            print('Utilization for server one: ',r_u_1)\n",
    "            print('Utilization for server two: ',r_u_2)\n",
    "        \n",
    "        else:\n",
    "            print('not the same length: arival, s1, s2 ')\n",
    "        "
   ]
  },
  {
   "cell_type": "code",
   "execution_count": 6,
   "metadata": {},
   "outputs": [
    {
     "name": "stdout",
     "output_type": "stream",
     "text": [
      "one server\n",
      "--------------------------------------------------\n",
      "   arival time  begin time  end time  delay\n",
      "1            1           1         3      2\n",
      "2            5           5        10      5\n",
      "3            7          10        14      7\n",
      "4            8          14        15      7\n",
      "5           16          16        19      3\n",
      "6           18          19        21      3\n",
      "7           22          22        23      1\n",
      "8           25          25        28      3\n",
      "--------------------------------------------------\n",
      "averge delay:  3.875\n",
      "Utilization:  0.7777777777777778\n"
     ]
    }
   ],
   "source": [
    "a = [1, 4, 2, 1, 8, 2, 4, 3]\n",
    "s = [2, 5, 4, 1, 3, 2, 1, 3]\n",
    "Server().oneServer(a, s)"
   ]
  },
  {
   "cell_type": "code",
   "execution_count": 7,
   "metadata": {},
   "outputs": [
    {
     "name": "stdout",
     "output_type": "stream",
     "text": [
      "two server\n",
      "--------------------------------------------------\n",
      "   A  Arival  begin 1  end 1  begin 2  end 2  delay\n",
      "1  1       2        2      3        3      5      3\n",
      "2  2       5        5      7        7      8      3\n",
      "3  3       6        7      8        8     11      5\n",
      "4  4       9        9     12       12     14      5\n",
      "5  5      11       12     14       14     15      4\n",
      "6  6      16       16     18       18     22      6\n",
      "7  7      19       19     23       23     25      6\n",
      "8  8      21       23     24       25     26      5\n",
      "9  9      23       24     28       28     29      6\n",
      "--------------------------------------------------\n",
      "averge delay:  4.777777777777778\n",
      "Utilization for server one:  0.7692307692307693\n",
      "Utilization for server two:  0.6296296296296297\n"
     ]
    }
   ],
   "source": [
    "a = [2, 3, 1, 3, 2, 5, 3, 2, 2]\n",
    "s1 = [1, 2, 1, 3, 2, 2, 4, 1, 4]\n",
    "s2 = [2, 1, 3, 2, 1, 4, 2, 1, 1]\n",
    "Server().twoServer(a, s1, s2)"
   ]
  },
  {
   "cell_type": "code",
   "execution_count": null,
   "metadata": {},
   "outputs": [],
   "source": []
  },
  {
   "cell_type": "code",
   "execution_count": null,
   "metadata": {},
   "outputs": [],
   "source": []
  }
 ],
 "metadata": {
  "kernelspec": {
   "display_name": "Python 3",
   "language": "python",
   "name": "python3"
  },
  "language_info": {
   "codemirror_mode": {
    "name": "ipython",
    "version": 3
   },
   "file_extension": ".py",
   "mimetype": "text/x-python",
   "name": "python",
   "nbconvert_exporter": "python",
   "pygments_lexer": "ipython3",
   "version": "3.6.6"
  }
 },
 "nbformat": 4,
 "nbformat_minor": 2
}
